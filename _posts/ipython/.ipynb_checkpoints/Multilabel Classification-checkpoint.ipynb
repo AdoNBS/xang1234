{
 "cells": [
  {
   "cell_type": "markdown",
   "metadata": {},
   "source": [
    "## Multilabel Classification with scikit-multilearn\n",
    "\n",
    "### 1. Introduction\n",
    "\n",
    "We typically group supervised machine learning problems into classification and regression problems. Within the classification problems sometimes, multiclass classification models are encountered where the classification is not binary but we have to assign a class from `n` choices. \n",
    "\n",
    "In multilabel classification, instead of one target variable $y$, we have multiple target variables $y_1$, $y_2$, ..., $y_n$. For example there can be multiple objects in an image and we need to correctly classify them all or we are attempting predict which combination of a product that a customer would buy. \n",
    "\n",
    "Certain decision tree based algorithms in [Scikit-Learn](http://scikit-learn.org/stable/modules/multiclass.html) are naturally able to handle multilabel classification. In this post we explore the [scikit-multilearn library](http://scikit.ml/) which leverages Scikit-Learn and is built specifically for multilabel problems. \n"
   ]
  },
  {
   "cell_type": "markdown",
   "metadata": {},
   "source": [
    "### 2. Datasets\n",
    "\n",
    "We use the **MediaMill** dataset to explore different multilabel algorithms available in Scikit-Multilearn. Our goal is not to optimize classifier performance but to explore the various algorithms applicable to multilabel classification problems. The dataset is reasonable with over 30k train points and 12k test points. There are 120 features and 101 labels. \n",
    "\n",
    "This dataset was chosen in order to work with a fairly large dataset to illustrate difficulties in multilabel classification instead of a toy example. In particular when there are $N$ labels, the search space increases exponentially to $2^N$. A list of multilabel datasets can be found at Manik Varma's [Extreme Classification Repository](http://manikvarma.org/downloads/XC/XMLRepository.html). The data is provided in sparse format and the authors only provide Matlab scripts to convert them; some data wrangling is needed in python to handle them. \n",
    "\n",
    "\n"
   ]
  },
  {
   "cell_type": "code",
   "execution_count": null,
   "metadata": {
    "collapsed": true
   },
   "outputs": [],
   "source": [
    "from scipy import sparse\n",
    "import gc\n",
    "\n",
    "#f = open(r'C:\\Users\\david\\Downloads\\Mediamill\\Mediamill_data.txt',\n",
    "#'r',encoding='utf-8')\n",
    "f = open(r'C:\\Users\\kaoyuant\\Downloads\\Mediamill\\Mediamill_data.txt',\n",
    "         'r',encoding='utf-8')\n",
    "\n",
    "size = f.readline()\n",
    "nrows, nfeature,nlabel = [int(s) for s in size.split()]\n",
    "x_m = [[] for i in range(nrows)]\n",
    "pos = [[] for i in range(nrows)]\n",
    "y_m = [[] for i in range(nrows)]\n",
    "\n",
    "for i in range(nrows):\n",
    "    line = f.readline()\n",
    "    temp=[s for s in line.split(sep=' ')]\n",
    "    pos[i]=[int(s.split(':')[0]) for s in temp[1:]]\n",
    "    x_m[i]=[float(s.split(':')[1]) for s in temp[1:]]\n",
    "    for s in temp[0].split(','):\n",
    "        try:\n",
    "            int(s)\n",
    "            y_m[i]=[ int(s) for s in temp[0].split(',')]\n",
    "        except:\n",
    "            y_m[i]=[]\n",
    "          \n",
    "      \n",
    "\n",
    "\n",
    "#f = open(r'C:\\Users\\david\\Downloads\\Mediamill\\Mediamill_trSplit.txt',\n",
    "#'r',encoding='utf-8')\n",
    "f = open(r'C:\\Users\\kaoyuant\\Downloads\\Mediamill\\Mediamill_trSplit.txt',\n",
    "         'r',encoding='utf-8')\n",
    "train=f.readlines()\n",
    "\n",
    "#f = open(r'C:\\Users\\david\\Downloads\\Mediamill\\Mediamill_tstSplit.txt',\n",
    "#'r',encoding='utf-8')\n",
    "f = open(r'C:\\Users\\kaoyuant\\Downloads\\Mediamill\\Mediamill_tstSplit.txt',\n",
    "         'r',encoding='utf-8')\n",
    "test=f.readlines()\n",
    "\n",
    "\n",
    "select=0\n",
    "train_=[int(s.split()[select])-1 for s in train]\n",
    "test_=[int(s.split()[select])-1 for s in test]\n",
    "\n",
    "xm_train=[x_m[i] for i in train_]\n",
    "ym_train=[y_m[i] for i in train_]\n",
    "\n",
    "xm_test=[x_m[i] for i in test_]\n",
    "ym_test=[y_m[i] for i in test_]\n",
    "\n",
    "\n",
    "\n",
    "x_train=sparse.lil_matrix((len(train_),nfeature))\n",
    "for i in range(len(train_)):\n",
    "    for j in range(len(pos[i])):\n",
    "        x_train[i,pos[i][j]]=xm_train[i][j]\n",
    "\n",
    "x_test=sparse.lil_matrix((len(test_),nfeature))\n",
    "for i in range(len(test_)):\n",
    "    for j in range(len(pos[i])):\n",
    "        x_test[i,pos[i][j]]=xm_test[i][j]\n",
    "\n",
    "del x_m, xm_train, pos,xm_test\n",
    "gc.collect()\n",
    "\n",
    "y_train=sparse.lil_matrix((len(train_),nlabel))\n",
    "for i in range(len(train_)):\n",
    "    for j in ym_train[i]:\n",
    "        y_train[i,j]=1\n",
    "\n",
    "y_test=sparse.lil_matrix((len(test_),nlabel))\n",
    "for i in range(len(test_)):\n",
    "    for j in ym_test[i]:\n",
    "        y_test[i,j]=1\n",
    "\n",
    "del y_m, ym_train, ym_test\n",
    "gc.collect()  \n"
   ]
  },
  {
   "cell_type": "markdown",
   "metadata": {},
   "source": [
    "### 3. Label Graph\n",
    "\n",
    "When the label space is large, we can try to explore it using graph methods. Each label is a node in the graph and an edge exists when labels co-occur, weighted by the frequency of co-occurence.  "
   ]
  },
  {
   "cell_type": "code",
   "execution_count": 42,
   "metadata": {
    "collapsed": false
   },
   "outputs": [
    {
     "name": "stdout",
     "output_type": "stream",
     "text": [
      "101 labels, 2213 edges\n"
     ]
    }
   ],
   "source": [
    "from skmultilearn.cluster import LabelCooccurrenceGraphBuilder\n",
    "graph_builder = LabelCooccurrenceGraphBuilder(weighted=True,\n",
    "                                              include_self_edges=False)\n",
    "\n",
    "label_names=[i for i in range(nlabel)]\n",
    "edge_map = graph_builder.transform(y_train)\n",
    "print(\"{} labels, {} edges\".format(len(label_names), len(edge_map)))\n"
   ]
  },
  {
   "cell_type": "markdown",
   "metadata": {},
   "source": [
    "Once we have constructed the label graph, we can apply graph algorithms on it to explore and understand it. \n",
    "\n",
    "One possibility is to cluster similar labels together so that they are processed together by the multilabel classification algorithms. Community detection methods such as the [Louvain algorithm](https://en.wikipedia.org/wiki/Louvain_Modularity) allow us to cluster the label graph. This is implemented in the `NetworkXLabelGraphClusterer` with the parameter `methods = louvain`."
   ]
  },
  {
   "cell_type": "code",
   "execution_count": 81,
   "metadata": {
    "collapsed": true
   },
   "outputs": [],
   "source": [
    "\n",
    "from skmultilearn.cluster import NetworkXLabelGraphClusterer\n",
    "\n",
    "# we define a helper function for visualization purposes\n",
    "def to_membership_vector(partition):\n",
    "    return {\n",
    "        member :  partition_id\n",
    "        for partition_id, members in enumerate(partition)\n",
    "        for member in members\n",
    "    }\n",
    "clusterer = NetworkXLabelGraphClusterer(graph_builder, method='louvain')\n"
   ]
  },
  {
   "cell_type": "code",
   "execution_count": 82,
   "metadata": {
    "collapsed": false
   },
   "outputs": [
    {
     "name": "stdout",
     "output_type": "stream",
     "text": [
      "There are 3 clusters\n"
     ]
    }
   ],
   "source": [
    "partition = clusterer.fit_predict(x_train,y_train)\n",
    "membership_vector = to_membership_vector(partition)\n",
    "print('There are', len(partition),'clusters')"
   ]
  },
  {
   "cell_type": "markdown",
   "metadata": {},
   "source": [
    "Our graph can be visualized with NetworkX. We use the force or spring layout for better visibility. "
   ]
  },
  {
   "cell_type": "code",
   "execution_count": 83,
   "metadata": {
    "collapsed": false
   },
   "outputs": [
    {
     "data": {
      "image/png": "[encoded data removed]",
      "text/plain": [
       "<Figure size 432x288 with 1 Axes>"
      ]
     },
     "metadata": {},
     "output_type": "display_data"
    }
   ],
   "source": [
    "import networkx as nx\n",
    "names_dict = dict(enumerate(x for x in label_names))\n",
    "import matplotlib.pyplot as plt\n",
    "%matplotlib inline\n",
    "nx.draw(\n",
    "    clusterer.graph_,\n",
    "    pos=nx.spring_layout(clusterer.graph_,k1),\n",
    "    labels=names_dict,\n",
    "    with_labels = True,\n",
    "    width = [10*x/y_train.shape[0] for x in clusterer.weights_['weight']],\n",
    "    node_color = [membership_vector[i] for i in range(y_train.shape[1])],\n",
    "    cmap=plt.cm.viridis,\n",
    "    node_size=250,\n",
    "    font_size=10,\n",
    "    font_color='white',\n",
    "    alpha=0.8\n",
    ")"
   ]
  },
  {
   "cell_type": "markdown",
   "metadata": {},
   "source": [
    "We get 3 clusters. It might make sense to group them together when we send them to the multilabel  algorithm. Certain labels have lower centrality, indicating less influence from other labels. It is possible to predict these labels first before predicting the more central labels when using the chained classifier algorithm (see below)."
   ]
  },
  {
   "cell_type": "markdown",
   "metadata": {},
   "source": [
    "### 3. Metric  \n",
    "\n",
    "Before going into the details of each multilabel classification method, we select a metric to gauge how well the algorithm is performing. Similar to a classification problem it is possible to use `Hamming Loss`, `Accuracy`, `Precision`, `Jaccard Similarity`, `Recall`, and `F1 Score`. These are available from Scikit-Learn. \n",
    "\n",
    "Going forward we'll chose the `F1 Score` as it averages both `Precision` and `Recall`. We set the parameter `average = micro` to calculate metrics globally. There are many labels and some labels are not predicted; using `average = weighted` will result in the score for certain labels to be set to `0` before averaging.\n",
    "\n",
    "It is also helpful to plot the confusion matrix to understand how the classifier is performing, but in our case there are too many labels to visualize.\n",
    "\n",
    "\n"
   ]
  },
  {
   "cell_type": "code",
   "execution_count": 6,
   "metadata": {
    "collapsed": false
   },
   "outputs": [
    {
     "ename": "SyntaxError",
     "evalue": "invalid syntax (<ipython-input-6-853b10b3eedc>, line 1)",
     "output_type": "error",
     "traceback": [
      "\u001b[0;36m  File \u001b[0;32m\"<ipython-input-6-853b10b3eedc>\"\u001b[0;36m, line \u001b[0;32m1\u001b[0m\n\u001b[0;31m    Image of confusion matrix\u001b[0m\n\u001b[0m           ^\u001b[0m\n\u001b[0;31mSyntaxError\u001b[0m\u001b[0;31m:\u001b[0m invalid syntax\n"
     ]
    }
   ],
   "source": [
    "Image of confusion matrix "
   ]
  },
  {
   "cell_type": "markdown",
   "metadata": {},
   "source": [
    "### 4. Multilabel Classifiers - Algorithm Adaptation\n",
    "\n",
    "Algorithm Adaptation, as indicated by it's name, extend single label classification to the multi-label context, usually by changing the cost or decision functions. "
   ]
  },
  {
   "cell_type": "markdown",
   "metadata": {},
   "source": [
    "#### Algorithm Adaptation - MLkNN"
   ]
  },
  {
   "cell_type": "markdown",
   "metadata": {},
   "source": [
    "#### Algorithm Adaptation - BRkNNaClassifier"
   ]
  },
  {
   "cell_type": "markdown",
   "metadata": {},
   "source": [
    "### 5. Multilabel Classifiers - Problem Transformation\n",
    "\n",
    "#### Problem Transformation : Binary Relevance \n",
    "\n",
    "Binary relevance is simple; each target variable ($y_1$, $y_2$,..,$y_n$) is treated independently and we are reduced to $n$ classification problems. `Scikit-Multilearn` implements this for us, saving us the hassle of splitting the dataset and training each of them separately.  "
   ]
  },
  {
   "cell_type": "code",
   "execution_count": 25,
   "metadata": {
    "collapsed": false
   },
   "outputs": [
    {
     "name": "stdout",
     "output_type": "stream",
     "text": [
      "training time taken:  767.0 seconds\n"
     ]
    }
   ],
   "source": [
    "from skmultilearn.problem_transform import BinaryRelevance\n",
    "from sklearn.ensemble import RandomForestClassifier\n",
    "import time\n",
    "\n",
    "start=time.time()\n",
    "classifier = BinaryRelevance(\n",
    "    classifier = RandomForestClassifier(),\n",
    "    require_dense = [False, True]\n",
    ")\n",
    "\n",
    "classifier.fit(x_train, y_train)\n",
    "\n",
    "print('training time taken: ',round(time.time()-start,0),'seconds')\n",
    "\n"
   ]
  },
  {
   "cell_type": "code",
   "execution_count": 26,
   "metadata": {
    "collapsed": false
   },
   "outputs": [
    {
     "name": "stdout",
     "output_type": "stream",
     "text": [
      "prediction time taken:  59.0 seconds\n"
     ]
    }
   ],
   "source": [
    "start=time.time()\n",
    "y_hat=classifier.predict(x_test)\n",
    "print('prediction time taken: ',round(time.time()-start,0),'seconds')"
   ]
  },
  {
   "cell_type": "code",
   "execution_count": 27,
   "metadata": {
    "collapsed": false
   },
   "outputs": [
    {
     "name": "stdout",
     "output_type": "stream",
     "text": [
      "Binary Relevance F1-score: 0.591\n",
      "Binary Relevance Hamming Loss: 0.028\n"
     ]
    }
   ],
   "source": [
    "import sklearn.metrics as metrics\n",
    "\n",
    "br_f1=metrics.f1_score(y_test, y_hat, average='micro')\n",
    "br_hamm=metrics.hamming_loss(y_test,y_hat)\n",
    "print('Binary Relevance F1-score:',round(br_f1,3))\n",
    "print('Binary Relevance Hamming Loss:',round(br_hamm,3))"
   ]
  },
  {
   "cell_type": "markdown",
   "metadata": {},
   "source": [
    "#### Problem Transformation - Label Powerset\n",
    "\n",
    "This method transforms the problem into a multiclass classification problem; the target variables ($y_1$, $y_2$,..,$y_n$) are combined and each combination is treated as a unique class. This method will produce many classes. "
   ]
  },
  {
   "cell_type": "code",
   "execution_count": 49,
   "metadata": {
    "collapsed": false
   },
   "outputs": [
    {
     "name": "stdout",
     "output_type": "stream",
     "text": [
      "training time taken:  625.0 seconds\n"
     ]
    }
   ],
   "source": [
    "from skmultilearn.problem_transform import LabelPowerset\n",
    "\n",
    "classifier = LabelPowerset(\n",
    "    classifier = RandomForestClassifier(),\n",
    "    require_dense = [False, True]\n",
    ")\n",
    "\n",
    "start=time.time()\n",
    "classifier.fit(x_train, y_train)\n",
    "print('training time taken: ',round(time.time()-start,0),'seconds')"
   ]
  },
  {
   "cell_type": "code",
   "execution_count": 50,
   "metadata": {
    "collapsed": false
   },
   "outputs": [
    {
     "name": "stdout",
     "output_type": "stream",
     "text": [
      "prediction time taken:  134.0 seconds\n"
     ]
    }
   ],
   "source": [
    "start=time.time()\n",
    "y_hat=classifier.predict(x_test)\n",
    "print('prediction time taken: ',round(time.time()-start,0),'seconds')"
   ]
  },
  {
   "cell_type": "code",
   "execution_count": 51,
   "metadata": {
    "collapsed": false
   },
   "outputs": [
    {
     "name": "stdout",
     "output_type": "stream",
     "text": [
      "Label Powerset F1-score: 0.582\n",
      "Label Powerset Hamming Loss: 0.031\n"
     ]
    }
   ],
   "source": [
    "\n",
    "lp_f1=metrics.f1_score(y_test, y_hat, average='micro')\n",
    "lp_hamm=metrics.hamming_loss(y_test,y_hat)\n",
    "print('Label Powerset F1-score:',round(lp_f1,3))\n",
    "print('Label Powerset Hamming Loss:',round(lp_hamm,3))"
   ]
  },
  {
   "cell_type": "markdown",
   "metadata": {},
   "source": [
    "#### Problem Transformation - Classifier Chains \n",
    "\n",
    "Classifier chains are akin to binary relevance, however the target variables ($y_1$, $y_2$,..,$y_n$) are not fully independent. "
   ]
  },
  {
   "cell_type": "code",
   "execution_count": 52,
   "metadata": {
    "collapsed": false
   },
   "outputs": [
    {
     "name": "stdout",
     "output_type": "stream",
     "text": [
      "training time taken:  481.0 seconds\n"
     ]
    }
   ],
   "source": [
    "from skmultilearn.problem_transform import ClassifierChain\n",
    "\n",
    "classifier = ClassifierChain(\n",
    "    classifier = RandomForestClassifier(),\n",
    "    require_dense = [False, True]\n",
    ")\n",
    "start=time.time()\n",
    "classifier.fit(x_train,y_train)\n",
    "\n",
    "print('training time taken: ',round(time.time()-start,0),'seconds')"
   ]
  },
  {
   "cell_type": "code",
   "execution_count": 53,
   "metadata": {
    "collapsed": false
   },
   "outputs": [
    {
     "name": "stdout",
     "output_type": "stream",
     "text": [
      "prediction time taken:  12.0 seconds\n"
     ]
    }
   ],
   "source": [
    "start=time.time()\n",
    "y_hat=classifier.predict(x_test)\n",
    "print('prediction time taken: ',round(time.time()-start,0),'seconds')"
   ]
  },
  {
   "cell_type": "code",
   "execution_count": 54,
   "metadata": {
    "collapsed": false
   },
   "outputs": [
    {
     "name": "stdout",
     "output_type": "stream",
     "text": [
      "Classifier Chain F1-score: 0.579\n",
      "Classifier Chain Hamming Loss: 0.028\n"
     ]
    }
   ],
   "source": [
    "cc_f1=metrics.f1_score(y_test, y_hat, average='micro')\n",
    "cc_hamm=metrics.hamming_loss(y_test,y_hat)\n",
    "print('Classifier Chain F1-score:',round(cc_f1,3))\n",
    "print('Classifier Chain Hamming Loss:',round(cc_hamm,3))"
   ]
  },
  {
   "cell_type": "code",
   "execution_count": 95,
   "metadata": {
    "collapsed": false
   },
   "outputs": [
    {
     "name": "stdout",
     "output_type": "stream",
     "text": [
      "training time taken:  476.0 seconds\n"
     ]
    }
   ],
   "source": [
    "from operator import itemgetter\n",
    "sorted_deg = [s[0] for s in sorted(nx.betweenness_centrality(clusterer.graph_).items(),\n",
    "                                   key=itemgetter(1))]\n",
    "classifier = ClassifierChain(\n",
    "    classifier = RandomForestClassifier(),\n",
    "    require_dense = [False, True],\n",
    "    order=sorted_deg\n",
    ")\n",
    "start=time.time()\n",
    "classifier.fit(x_train,y_train)\n",
    "\n",
    "print('training time taken: ',round(time.time()-start,0),'seconds')"
   ]
  },
  {
   "cell_type": "code",
   "execution_count": 96,
   "metadata": {
    "collapsed": false
   },
   "outputs": [
    {
     "name": "stdout",
     "output_type": "stream",
     "text": [
      "prediction time taken:  12.0 seconds\n"
     ]
    }
   ],
   "source": [
    "start=time.time()\n",
    "y_hat=classifier.predict(x_test)\n",
    "print('prediction time taken: ',round(time.time()-start,0),'seconds')"
   ]
  },
  {
   "cell_type": "code",
   "execution_count": 97,
   "metadata": {
    "collapsed": false
   },
   "outputs": [
    {
     "name": "stdout",
     "output_type": "stream",
     "text": [
      "Classifier Chain Ordered F1-score: 0.019\n",
      "Classifier Chain Ordered Hamming Loss: 0.063\n"
     ]
    }
   ],
   "source": [
    "cco_f1=metrics.f1_score(y_test, y_hat, average='micro')\n",
    "cco_hamm=metrics.hamming_loss(y_test,y_hat)\n",
    "print('Classifier Chain Ordered F1-score:',round(cco_f1,3))\n",
    "print('Classifier Chain Ordered Hamming Loss:',round(cco_hamm,3))"
   ]
  },
  {
   "cell_type": "code",
   "execution_count": 112,
   "metadata": {
    "collapsed": false
   },
   "outputs": [
    {
     "name": "stdout",
     "output_type": "stream",
     "text": [
      "training time taken:  419.0 seconds\n"
     ]
    }
   ],
   "source": [
    "rev_sorted_deg = [s[0] for s in sorted(nx.betweenness_centrality(clusterer.graph_).items(),\n",
    "                                   key=itemgetter(1),\n",
    "                 reverse=True)]\n",
    "\n",
    "classifier = ClassifierChain(\n",
    "    classifier = RandomForestClassifier(),\n",
    "    require_dense = [False, True],\n",
    "    order=rev_sorted_deg\n",
    ")\n",
    "start=time.time()\n",
    "classifier.fit(x_train,y_train)\n",
    "\n",
    "print('training time taken: ',round(time.time()-start,0),'seconds')"
   ]
  },
  {
   "cell_type": "code",
   "execution_count": null,
   "metadata": {
    "collapsed": false
   },
   "outputs": [],
   "source": [
    "start=time.time()\n",
    "y_hat=classifier.predict(x_test)\n",
    "print('prediction time taken: ',round(time.time()-start,0),'seconds')"
   ]
  },
  {
   "cell_type": "code",
   "execution_count": null,
   "metadata": {
    "collapsed": false
   },
   "outputs": [],
   "source": [
    "ccr_f1=metrics.f1_score(y_test, y_hat, average='micro')\n",
    "ccr_hamm=metrics.hamming_loss(y_test,y_hat)\n",
    "print('Classifier Chain Reverse Ordered F1-score:',round(ccr_f1,3))\n",
    "print('Classifier Chain Reverse Ordered Hamming Loss:',round(ccr_hamm,3))"
   ]
  },
  {
   "cell_type": "code",
   "execution_count": 109,
   "metadata": {
    "collapsed": false
   },
   "outputs": [
    {
     "data": {
      "text/plain": [
       "0"
      ]
     },
     "execution_count": 109,
     "metadata": {},
     "output_type": "execute_result"
    }
   ],
   "source": [
    "min(sorted_deg)"
   ]
  },
  {
   "cell_type": "markdown",
   "metadata": {},
   "source": [
    "### 6. Multilabel Classifiers - Ensembles of Classifiers"
   ]
  },
  {
   "cell_type": "markdown",
   "metadata": {},
   "source": [
    "#### Ensembles of Classifiers - RakelD"
   ]
  },
  {
   "cell_type": "markdown",
   "metadata": {},
   "source": [
    "#### Ensembles of Classifiers - Majority Voting Classifier"
   ]
  },
  {
   "cell_type": "markdown",
   "metadata": {},
   "source": [
    "### 7. Extreme Multilabel Classification\n",
    "\n",
    "We use the AmazonCat-13K dataset to explore different multilabel algorithms available in Scikit-Multilearn. Our goal is not to optimize classifier performance but to explore the various algorithms applicable to multilabel classification problems. The dataset if fairly large with over 1.1M train points and 300k test points. There are over 200k features and 13k labels. \n",
    "\n",
    "This dataset was chosen in order to work with a fairly large dataset to illustrate difficulties in multilabel classification instead of a toy example. In particular when there are $N$ labels, the search space increases exponentially to $2^N$. A list of multilabel datasets can be found at Manik Varma's [Extreme Classification Repository](http://manikvarma.org/downloads/XC/XMLRepository.html). The data is provided in sparse format and the authors only provide Matlab scripts to convert them; some data wrangling is needed in python to handle them. \n"
   ]
  },
  {
   "cell_type": "code",
   "execution_count": 1,
   "metadata": {
    "collapsed": false
   },
   "outputs": [
    {
     "data": {
      "text/plain": [
       "0"
      ]
     },
     "execution_count": 1,
     "metadata": {},
     "output_type": "execute_result"
    }
   ],
   "source": [
    "from scipy import sparse\n",
    "import gc\n",
    "\n",
    "#f = open(r'C:\\Users\\david\\Downloads\\RCV1-x\\rcv1x_train.txt', 'r',encoding='utf-8')\n",
    "f = open(r'C:\\Users\\kaoyuant\\Downloads\\RCV1-x\\rcv1x_train.txt', 'r',encoding='utf-8')\n",
    "   \n",
    "    \n",
    "size = f.readline()\n",
    "nrows, nfeature,nlabel = [int(s) for s in size.split()]\n",
    "x_m = [[] for i in range(nrows)]\n",
    "pos = [[] for i in range(nrows)]\n",
    "y_m = [[] for i in range(nrows)]\n",
    "\n",
    "for i in range(nrows):\n",
    "    line = f.readline()\n",
    "    temp=[s for s in line.split(sep=' ')]\n",
    "    pos[i]=[int(s.split(':')[0]) for s in temp[1:]]\n",
    "    x_m[i]=[float(s.split(':')[1]) for s in temp[1:]]\n",
    "    for s in temp[0].split(','):\n",
    "        try:\n",
    "            int(s)\n",
    "            y_m[i]=[ int(s) for s in temp[0].split(',')]\n",
    "        except:\n",
    "            y_m[i]=[]\n",
    "          \n",
    "x_train=sparse.lil_matrix((nrows,nfeature))\n",
    "for i in range(nrows):\n",
    "    for j in range(len(pos[i])):\n",
    "        x_train[i,pos[i][j]]=x_m[i][j]\n",
    "\n",
    "del x_m,pos\n",
    "gc.collect()\n",
    "\n",
    "y_train=sparse.lil_matrix((nrows,nlabel))\n",
    "for i in range(nrows):\n",
    "    for j in y_m[i]:\n",
    "        y_train[i,j]=1\n",
    "\n",
    "del y_m\n",
    "gc.collect()  \n",
    "\n"
   ]
  },
  {
   "cell_type": "code",
   "execution_count": null,
   "metadata": {
    "collapsed": true
   },
   "outputs": [],
   "source": [
    "\n",
    "\n",
    "#f = open(r'C:\\Users\\david\\Downloads\\RCV1-x\\rcv1x_test.txt', 'r',encoding='utf-8')\n",
    "f = open(r'C:\\Users\\kaoyuant\\Downloads\\RCV1-x\\rcv1x_test.txt', 'r',encoding='utf-8')\n",
    "\n",
    "size = f.readline()\n",
    "nrows, nfeature,nlabel = [int(s) for s in size.split()]\n",
    "x_m = [[] for i in range(nrows)]\n",
    "pos = [[] for i in range(nrows)]\n",
    "y_m = [[] for i in range(nrows)]\n",
    "\n",
    "for i in range(nrows):\n",
    "    line = f.readline()\n",
    "    temp=[s for s in line.split(sep=' ')]\n",
    "    pos[i]=[int(s.split(':')[0]) for s in temp[1:]]\n",
    "    x_m[i]=[float(s.split(':')[1]) for s in temp[1:]]\n",
    "    for s in temp[0].split(','):\n",
    "        try:\n",
    "            int(s)\n",
    "            y_m[i]=[ int(s) for s in temp[0].split(',')]\n",
    "        except:\n",
    "            y_m[i]=[]\n",
    "          \n",
    "\n",
    "x_test=sparse.lil_matrix((nrows,nfeature))\n",
    "for i in range(nrows):\n",
    "    for j in range(len(pos[i])):\n",
    "        x_test[i,pos[i][j]]=x_m[i][j]\n",
    "\n",
    "del x_m,pos\n",
    "gc.collect()\n",
    "\n",
    "y_test=sparse.lil_matrix((nrows,nlabel))\n",
    "for i in range(nrows):\n",
    "    for j in y_m[i]:\n",
    "        y_test[i,j]=1\n",
    "\n",
    "del y_m\n",
    "gc.collect()  "
   ]
  },
  {
   "cell_type": "code",
   "execution_count": null,
   "metadata": {
    "collapsed": true
   },
   "outputs": [],
   "source": [
    "prod = [(x, y) for x in range(nrows) for y in pos] # combinations\n",
    "r = [x for (x, y) in prod] # x_coordinate\n",
    "c = [y for (x, y) in prod] # y_coordinate\n",
    "data = [1] * len(r)\n",
    "m = scipy.sparse.coo_matrix((data, (r, c)), shape=(nrows, nfeature))"
   ]
  },
  {
   "cell_type": "markdown",
   "metadata": {},
   "source": [
    "### FastXML"
   ]
  },
  {
   "cell_type": "code",
   "execution_count": 5,
   "metadata": {
    "collapsed": true
   },
   "outputs": [],
   "source": [
    "import os\n",
    "os.chdir('/Users/davidten/github/fastxml')\n",
    "\n",
    "from fastxml import Trainer, Inferencer\n"
   ]
  },
  {
   "cell_type": "code",
   "execution_count": 6,
   "metadata": {
    "collapsed": true
   },
   "outputs": [],
   "source": [
    "trainer = Trainer(n_trees=32, n_jobs=-1)\n"
   ]
  },
  {
   "cell_type": "code",
   "execution_count": null,
   "metadata": {
    "collapsed": true
   },
   "outputs": [],
   "source": []
  },
  {
   "cell_type": "code",
   "execution_count": null,
   "metadata": {
    "collapsed": true
   },
   "outputs": [],
   "source": []
  },
  {
   "cell_type": "code",
   "execution_count": null,
   "metadata": {
    "collapsed": true
   },
   "outputs": [],
   "source": []
  }
 ],
 "metadata": {
  "kernelspec": {
   "display_name": "Python [conda env:Anaconda3]",
   "language": "python",
   "name": "conda-env-Anaconda3-py"
  },
  "language_info": {
   "codemirror_mode": {
    "name": "ipython",
    "version": 3
   },
   "file_extension": ".py",
   "mimetype": "text/x-python",
   "name": "python",
   "nbconvert_exporter": "python",
   "pygments_lexer": "ipython3",
   "version": "3.5.2"
  }
 },
 "nbformat": 4,
 "nbformat_minor": 2
}
